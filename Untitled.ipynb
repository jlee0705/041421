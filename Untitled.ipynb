{
 "cells": [
  {
   "cell_type": "code",
   "execution_count": 84,
   "metadata": {},
   "outputs": [
    {
     "name": "stdout",
     "output_type": "stream",
     "text": [
      "팩토리얼 할 값: 10\n",
      "3628800\n"
     ]
    }
   ],
   "source": [
    "#Factorial (1)\n",
    "def factorial(n):\n",
    "    if n == 0:\n",
    "        return 1\n",
    "    else:\n",
    "        return n * factorial(n-1)\n",
    "n=int(input(\"팩토리얼 할 값: \"))\n",
    "print(factorial(n))"
   ]
  },
  {
   "cell_type": "code",
   "execution_count": 15,
   "metadata": {},
   "outputs": [
    {
     "name": "stdout",
     "output_type": "stream",
     "text": [
      "몇번째?: 10\n",
      "Fibonacci  나열:\n",
      "0 1 1 2 3 5 8 13 21 34 "
     ]
    }
   ],
   "source": [
    "#Fibonacci (2)\n",
    "def Fib(n):  \n",
    "    if n <= 1:  \n",
    "        return n  \n",
    "    else:  \n",
    "        return(Fib(n-1) + Fib(n-2))  \n",
    "nterms = int(input(\"몇번째?: \"))  #숫자 입력\n",
    "\n",
    "if nterms <= 0:  # 숫자 확인 \n",
    "    print(\"정수 입력하셈\")  \n",
    "else:  \n",
    "    print(\"Fibonacci  나열:\")  \n",
    "for i in range(nterms):  \n",
    "        print(Fib(i), end=' ')"
   ]
  },
  {
   "cell_type": "code",
   "execution_count": 17,
   "metadata": {},
   "outputs": [],
   "source": [
    "# 계산기\n"
   ]
  },
  {
   "cell_type": "code",
   "execution_count": 86,
   "metadata": {},
   "outputs": [
    {
     "name": "stdout",
     "output_type": "stream",
     "text": [
      "{'I': 18, 'used': 3, 'to': 5, 'rule': 1, 'the': 16, 'world': 4, 'Seas': 1, 'would': 3, 'rise': 1, 'when': 4, 'gave': 1, 'word': 4, 'Now': 2, 'in': 6, 'morning,': 1, 'sleep': 1, 'alone': 1, 'Sweep': 1, 'streets': 1, 'own': 1, 'roll': 1, 'dice': 1, 'Feel': 1, 'fear': 1, 'my': 11, \"enemy's\": 1, 'eyes': 1, 'Listen': 1, 'as': 1, 'crowd': 1, 'sing': 1, 'old': 1, 'king': 1, 'is': 1, 'dead!': 1, 'Long': 1, 'live': 1, 'king!': 1, 'One': 1, 'minute': 1, 'held': 1, 'key': 1, 'Next': 1, 'walls': 1, 'were': 1, 'closed': 1, 'on': 3, 'me': 2, 'And': 2, 'discovered': 1, 'that': 4, 'castles': 1, 'stand': 1, 'Upon': 1, 'pillars': 2, 'of': 3, 'salt': 1, 'and': 6, 'sand': 1, 'hear': 3, 'Jerusalem': 3, 'bells': 3, 'are': 6, 'ringing': 3, 'Roman': 3, 'Cavalry': 1, 'choirs': 3, 'singing': 3, 'Be': 3, 'mirror,': 3, 'sword': 3, 'shield': 3, 'My': 3, 'missionaries': 3, 'a': 8, 'foreign': 3, 'field': 3, 'For': 4, 'some': 3, 'reason': 3, \"can't\": 3, 'explain': 3, 'Once': 1, 'you': 1, 'go': 1, 'there': 1, 'was': 5, 'never,': 1, 'never': 1, 'honest': 3, 'ruled': 3, 'It': 1, 'wicked': 1, 'wild': 1, 'wind': 1, 'Blew': 1, 'down': 1, 'doors': 1, 'let': 1, 'Shattered': 1, 'windows': 1, 'sound': 1, 'drums': 1, 'People': 1, \"couldn't\": 1, 'believe': 1, 'what': 1, \"I'd\": 1, 'become': 1, 'Revolutionaries': 1, 'wait': 1, 'head': 1, 'silver': 1, 'plate': 1, 'Just': 1, 'puppet': 1, 'lonely': 1, 'string': 1, 'Oh,': 2, 'who': 1, 'ever': 1, 'want': 1, 'be': 1, 'king?': 1, 'Calvary': 2, 'know': 2, 'Saint': 2, 'Peter': 2, \"won't\": 2, 'call': 2, 'name': 2, 'Never': 2, 'an': 2, 'But': 2, 'oh,': 3, 'oh': 1}\n"
     ]
    },
    {
     "data": {
      "text/plain": [
       "'king이라는 단어와 '"
      ]
     },
     "execution_count": 86,
     "metadata": {},
     "output_type": "execute_result"
    }
   ],
   "source": [
    "# 노래 분석\n",
    "a='''I used to rule the world\n",
    "Seas would rise when I gave the word\n",
    "Now in the morning, I sleep alone\n",
    "Sweep the streets I used to own\n",
    "I used to roll the dice\n",
    "Feel the fear in my enemy's eyes\n",
    "Listen as the crowd would sing\n",
    "Now the old king is dead! Long live the king!\n",
    "One minute I held the key\n",
    "Next the walls were closed on me\n",
    "And I discovered that my castles stand\n",
    "Upon pillars of salt and pillars of sand\n",
    "I hear Jerusalem bells are ringing\n",
    "Roman Cavalry choirs are singing\n",
    "Be my mirror, my sword and shield\n",
    "My missionaries in a foreign field\n",
    "For some reason I can't explain\n",
    "Once you go there was never, never a honest word\n",
    "And that was when I ruled the world\n",
    "It was a wicked and wild wind\n",
    "Blew down the doors to let me in\n",
    "Shattered windows and the sound of drums\n",
    "People couldn't believe what I'd become\n",
    "Revolutionaries wait\n",
    "For my head on a silver plate\n",
    "Just a puppet on a lonely string\n",
    "Oh, who would ever want to be king?\n",
    "I hear Jerusalem bells are ringing\n",
    "Roman Calvary choirs are singing\n",
    "Be my mirror, my sword and shield\n",
    "My missionaries in a foreign field\n",
    "For some reason I can't explain\n",
    "I know Saint Peter won't call my name\n",
    "Never an honest word\n",
    "But that was when I ruled the world\n",
    "Oh, oh, oh, oh, oh\n",
    "I hear Jerusalem bells are ringing\n",
    "Roman Calvary choirs are singing\n",
    "Be my mirror, my sword and shield\n",
    "My missionaries in a foreign field\n",
    "For some reason I can't explain\n",
    "I know Saint Peter won't call my name\n",
    "Never an honest word\n",
    "But that was when I ruled the world'''\n",
    "\n",
    "b =a.split('\\n')\n",
    "b = a.split(' ')\n",
    "b = a.replace('\\n', ' ')\n",
    "b = b.replace('(', ' ')\n",
    "b = b.replace(')', ' ')\n",
    "b = b.replace('  ', ' ')\n",
    "c=b.split(' ')\n",
    "\n",
    "# print(c)\n",
    "\n",
    "d = dict()\n",
    "\n",
    "words = c\n",
    "\n",
    "for word in words :\n",
    "    if word in d :\n",
    "        d[word] = d[word] + 1\n",
    "    else :\n",
    "        d[word] = 1\n",
    "        \n",
    "print(d, end='\\n')\n",
    "'king이라는 단어와 Jerusalem 이라는 단어가 많이 나오는것을 보니 중세시대의 배경인게 예상이 되고. '"
   ]
  },
  {
   "cell_type": "code",
   "execution_count": null,
   "metadata": {},
   "outputs": [],
   "source": []
  }
 ],
 "metadata": {
  "kernelspec": {
   "display_name": "Python 3",
   "language": "python",
   "name": "python3"
  },
  "language_info": {
   "codemirror_mode": {
    "name": "ipython",
    "version": 3
   },
   "file_extension": ".py",
   "mimetype": "text/x-python",
   "name": "python",
   "nbconvert_exporter": "python",
   "pygments_lexer": "ipython3",
   "version": "3.8.5"
  }
 },
 "nbformat": 4,
 "nbformat_minor": 4
}
